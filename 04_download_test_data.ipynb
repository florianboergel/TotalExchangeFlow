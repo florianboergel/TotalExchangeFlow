{
 "cells": [
  {
   "cell_type": "code",
   "execution_count": null,
   "source": [
    "# default_exp tutorial\n",
    "from nbdev import *"
   ],
   "outputs": [],
   "metadata": {}
  },
  {
   "cell_type": "markdown",
   "source": [
    "# Download TEF test data\n",
    "\n",
    "> Data used for Example 2"
   ],
   "metadata": {}
  },
  {
   "cell_type": "code",
   "execution_count": null,
   "source": [
    "#export\n",
    "# Code from xarray\n",
    "try:\n",
    "    import pooch\n",
    "except ImportError as e:\n",
    "    raise ImportError(\n",
    "        \"tutorial.download_test_data depends on pooch to download and manage datasets.\"\n",
    "        \" To proceed please install pooch.\"\n",
    "    ) from e"
   ],
   "outputs": [],
   "metadata": {}
  },
  {
   "cell_type": "code",
   "execution_count": null,
   "source": [
    "#export\n",
    "def download_test_data(downloadpath):\n",
    "    filepath_1d_winter = pooch.retrieve(\"https://github.com/florianboergel/pyTEF/raw/master/data/SoH_2_2011_01.nc\",\n",
    "                                    known_hash=None, path = downloadpath, fname = \"SoH_2_2011_01.nc\")\n",
    "    filepath_1d_summer = pooch.retrieve(\"https://github.com/florianboergel/pyTEF/raw/master/data/SoH_2_2011_08.nc\",\n",
    "                                    known_hash=None, path = downloadpath, fname = \"SoH_2_2011_08.nc\")\n",
    "    filepath_2d_winter = pooch.retrieve(\"https://github.com/florianboergel/pyTEF/raw/master/data/Surface_2011_01.nc\",\n",
    "                                    known_hash=None,  path = downloadpath, fname = \"Surface_2011_01.nc\")\n",
    "    filepath_2d_summer = pooch.retrieve(\"https://github.com/florianboergel/pyTEF/raw/master/data/Surface_2011_08.nc\",\n",
    "                                    known_hash=None,  path = downloadpath, fname = \"Surface_2011_08.nc\")\n"
   ],
   "outputs": [],
   "metadata": {}
  }
 ],
 "metadata": {
  "orig_nbformat": 4,
  "language_info": {
   "name": "python"
  }
 },
 "nbformat": 4,
 "nbformat_minor": 2
}