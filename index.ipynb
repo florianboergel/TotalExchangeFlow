{
 "cells": [
  {
   "cell_type": "code",
   "execution_count": null,
   "metadata": {},
   "outputs": [],
   "source": [
    "#| hide\n",
    "from pyTEF import *"
   ]
  },
  {
   "cell_type": "markdown",
   "metadata": {},
   "source": [
    "# pyTEF\n",
    "\n",
    "> pyTEF is a Python package that can be used to apply the Total Exchange (TEF) analysis framework to analyze the exchange flow of an estuary."
   ]
  },
  {
   "cell_type": "markdown",
   "metadata": {},
   "source": [
    "To do so TEF analyzes the exchange flow in salinity and/or temperature coordinates rather than spatial coordinates. This package provides the necessary tools to use the TEF framework and is built on top of xarray."
   ]
  },
  {
   "cell_type": "markdown",
   "metadata": {},
   "source": [
    "## Installing"
   ]
  },
  {
   "cell_type": "markdown",
   "metadata": {},
   "source": [
    "\n",
    "To install use\n",
    "\n",
    "`git clone https://github.com/florianboergel/pyTEF.git` and then \n",
    "\n",
    "`pip install -e pyTEF`"
   ]
  },
  {
   "cell_type": "markdown",
   "metadata": {},
   "source": [
    "## How to use\n",
    "\n",
    "`00_tef_core.ipynb` contains the TEF framework and all documentation.\n",
    "\n",
    "`01_calc.ipynb` mainly contains the coordinate transformation of the transport terms and the calculation of the bulk values\n",
    "\n",
    "Further you find different examples on how to use the TEF framework.\n",
    "\n",
    "- `02_example_analytical.ipynb` - validation of the pyTEF package\n",
    "\n",
    "- `03_example_persian_gulf.ipynb` - example TEF analysis applied to the Persian Gulf\n"
   ]
  },
  {
   "cell_type": "markdown",
   "metadata": {},
   "source": [
    "## Learn about TEF\n",
    "\n",
    "The TEF analysis framework (MacCready, 2011; Lorenz et al., 2019) allows a consistent calculation of the transports and salinities of an exchange flow in salinity space (or every other coordinate). The main idea of TEF is that transports of volume and salinity in and out the estuary of the same salinity partially compensate since only the net exchange changes salinity and volume of the estuary.\n",
    "\n",
    "The reader is referenced to the following literature:\n",
    "\n",
    "- [PhD thesis of Marvin Lorenz](http://rosdok.uni-rostock.de/resolve/id/rosdok_disshab_0000002489?_search=89c68482-f7cc-4363-89af-58ddebb819c2&_hit=0)\n",
    "\n",
    "- MacCready, P., 2011: Calculating estuarine exchange flow using isohaline coordinates. Journal of Physical Oceanography, 41 (6), 1116–1124.\n",
    "\n",
    "- Lorenz, M., Klingbeil, K., MacCready, P., and Burchard, H. (2019) Numerical issues of the Total Exchange Flow (TEF) analysis framework for quantifying estuarine circulation, Ocean Sci., 15, 601-614, https://doi.org/10.5194/os-15-601-2019\n",
    "\n",
    "- Lorenz, M., Klingbeil, K., and Burchard, H. (2020) Numerical Study of the Persian Gulf using an Extended Total Exchange Flow Analysis Framework, J. Geophys. Res. Oceans, 125, e2019JC015527, https://doi.org/10.1029/2019JC015527\n"
   ]
  },
  {
   "cell_type": "markdown",
   "metadata": {},
   "source": [
    "## What's new \n",
    "\n",
    "### v1.0 (15.07.2021)\n",
    "\n",
    "- updated README.md \n",
    "- ready for submission (JOSS)\n",
    "\n",
    "### v0.3 (07.07.2021)\n",
    "\n",
    "- improvements in code and documentation\n",
    "    - examples are completed\n",
    "    - documentation of the functions and examples \n",
    "\n",
    "### v0.2 (07.06.2021)\n",
    "\n",
    "- first version of pyTEF ready for testing\n",
    "    - example cases added\n",
    "    - calculation of bulk values\n",
    "    - algorithm that finds minima and maxima in a given Q profile\n",
    "    - added documentation\n",
    "\n",
    "### v0.1 (25.05.2021)\n",
    "\n",
    "- implementation of 2D sorting"
   ]
  }
 ],
 "metadata": {
  "kernelspec": {
   "display_name": "Python 3",
   "language": "python",
   "name": "python3"
  }
 },
 "nbformat": 4,
 "nbformat_minor": 4
}
