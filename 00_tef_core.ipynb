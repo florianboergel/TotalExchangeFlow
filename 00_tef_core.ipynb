{
 "cells": [
  {
   "cell_type": "code",
   "execution_count": 2,
   "metadata": {},
   "outputs": [],
   "source": [
    "# default_exp tef_core\n",
    "from nbdev import *"
   ]
  },
  {
   "cell_type": "markdown",
   "metadata": {},
   "source": [
    "# TEF core framework\n",
    "\n",
    "> contains TEF framework"
   ]
  },
  {
   "cell_type": "code",
   "execution_count": 3,
   "metadata": {},
   "outputs": [],
   "source": [
    "#export\n",
    "import math\n",
    "import numpy as np\n",
    "import xarray as xr\n",
    "import time"
   ]
  },
  {
   "cell_type": "code",
   "execution_count": 4,
   "metadata": {},
   "outputs": [],
   "source": [
    "#export\n",
    "class TEF_object():\n",
    "    \"\"\"Total Exchange Flow (TEF) Object used for calculating TEF properties\"\"\"\n",
    "    def __init__(self, filename = None, ds = None, **kwargs):\n",
    "\n",
    "        # What happens if no filename is provided\n",
    "        if not filename:\n",
    "            if ds is None:\n",
    "                self.ds = None\n",
    "            else:\n",
    "                self.ds = ds\n",
    "            return\n",
    "\n",
    "        # continue with filename\n",
    "        try:\n",
    "            self.ds = None\n",
    "            self.read(filename, **kwargs)\n",
    "        except (OSError, IOError, RuntimeError):\n",
    "            try:\n",
    "                self.read(filename, **kwargs)\n",
    "            except Exception:\n",
    "                raise IOError(\"Unkown file format. Known formats are netcdf.\")\n",
    "\n",
    "        self.transport = None\n",
    "\n",
    "    def __repr__(self):\n",
    "        try:\n",
    "            string = \"xarray dataset with {} time steps \\n\" \\\n",
    "                     \"Available fields: {}\".format(\n",
    "                self.timesteps, \", \".join(self.variables)\n",
    "            )\n",
    "        except AttributeError:\n",
    "            string = \"Empty TEF object \\n\" \\\n",
    "                     \"Hint: Have you used read() to load data?\"\n",
    "        return string\n",
    "\n",
    "    def __str__(self):\n",
    "        return 'Class {}: \\n'.format(self.__class__.__name__, self.ds)\n",
    "\n",
    "    def __len__(self):\n",
    "        return len(self.ds)\n",
    "\n",
    "    def __getattr__(self, attr):\n",
    "        if attr in self.__dict__:\n",
    "            return getattr(self, attr)\n",
    "        return getattr(self.ds, attr)\n",
    "\n",
    "    def __getitem__(self, key):\n",
    "        return self.ds[key]\n",
    "\n",
    "    @property\n",
    "    def timesteps(self):\n",
    "        if len(self.ds.dims) != 3:\n",
    "            print(\n",
    "                \"\\nDimensions should be equal to 3, but they are not.\\n\"\n",
    "            )\n",
    "            return self.ds.dims[self._get_name_time()]\n",
    "        return self.ds.dims[self.get_name_time()]\n",
    "\n",
    "    @property\n",
    "    def variables(self):\n",
    "        return list(self.ds.data_vars)\n",
    "\n",
    "    @property\n",
    "    def dimensions(self):\n",
    "        return list(self.ds.dims)\n",
    "\n",
    "    def read(self, filename,  **kwargs):\n",
    "        \"\"\"Reads xarray dataset\"\"\"\n",
    "        if self.ds is None:\n",
    "            self.ds = xr.open_dataset(filename, **kwargs)\n",
    "            print(\"read: {}\".format(self.__str__))\n",
    "        else:\n",
    "            raise ValueError(\"TEF object is already set!\")\n",
    "\n",
    "    def set_up(self,\n",
    "           time_name=None,\n",
    "           longitude_name=None,\n",
    "           latitude_name=None,\n",
    "           depth_name=None):\n",
    "        \"\"\"Sets up a xarray.dataset and transposes dimensions into needed format\"\"\"\n",
    "        # set dimensions\n",
    "        if time_name is None:\n",
    "            self._time_name = self._get_name_time()\n",
    "        else:\n",
    "            self._time_name = time_name\n",
    "        if longitude_name is None:\n",
    "            self._longitude_name = self._get_name_longitude()\n",
    "            if self._longitude_name is None:\n",
    "                self.ds = self.ds.expand_dims(\"lon\")\n",
    "                self._longitude_name = \"lon\"\n",
    "                print(\"Created dummy dimension for longitude\")\n",
    "        else:\n",
    "            self._longitude_name = longitude_name\n",
    "\n",
    "        if latitude_name is None:\n",
    "            self._latitude_name = self._get_name_latitude()\n",
    "            if self._latitude_name is None:\n",
    "                self.ds = self.ds.expand_dims(\"lat\")\n",
    "                self._latitude_name = \"lat\"\n",
    "                print(\"Created dummy dimension for latitude\")\n",
    "        else:\n",
    "            self._latitude_name = latitude_name\n",
    "\n",
    "        if depth_name is None:\n",
    "            self._depth_name = self._get_name_depth()\n",
    "            if self._depth_name is None:\n",
    "                self.ds = self.ds.expand_dims(\"depth\")\n",
    "                self._depth_name = \"depth\"\n",
    "                print(\"Created dummy dimension for depth\")\n",
    "        else:\n",
    "            self._depth_name = depth_name\n",
    "        if time_name is None:\n",
    "            self._time_name = self._get_name_time()\n",
    "            if self._time_name is None:\n",
    "                self.ds = self.ds.expand_dims(\"time\")\n",
    "                self._time_name = \"time\"\n",
    "                print(\"Created dummy dimension for time\")\n",
    "        else:\n",
    "            self._time_name = time_name\n",
    "        \n",
    "        # Transpose data\n",
    "        self.ds = self.ds.transpose(self._time_name,\n",
    "                                    self._depth_name,\n",
    "                                    self._latitude_name,\n",
    "                                    self._longitude_name)\n",
    "\n",
    "    def _get_name_time(self, x = None):\n",
    "        \"\"\"\n",
    "        check for 'time' dimension and return name\n",
    "        \"\"\"\n",
    "        # check unit\n",
    "        if x is not None:\n",
    "            if isinstance(x, np.ndarray):\n",
    "                print('numpy array -> creating artificial time axis')\n",
    "                return np.arange(x.shape[0]) \n",
    "        else:\n",
    "            for dim in self.ds.dims:\n",
    "                if (('units' in self.ds[dim].attrs and\n",
    "                    'since' in self.ds[dim].attrs['units']) or\n",
    "                    ('units' in self.ds[dim].encoding and\n",
    "                     'since' in self.ds[dim].encoding['units']) or\n",
    "                    dim in ['time']):\n",
    "                    return dim\n",
    "            # check dtype\n",
    "            for dim in self.ds.variables:\n",
    "                try:\n",
    "                    var = self.ds[dim].data[0]\n",
    "                except IndexError:\n",
    "                    var = self.ds[dim].data\n",
    "                if isinstance(var, np.datetime64):\n",
    "                    return dim\n",
    "            # no 'time' dimension found\n",
    "            return None\n",
    "\n",
    "    def _get_name_longitude(self):\n",
    "        \"\"\"\n",
    "        check for 'longitude' dimension and return name\n",
    "        \"\"\"\n",
    "        for dim in self.ds.dims:\n",
    "            if (('units' in self.ds[dim].attrs and\n",
    "               self.ds[dim].attrs['units'] in ['degree_east', 'degrees_east']) or\n",
    "               dim in ['lon', 'longitude', 'x']):\n",
    "                   return dim\n",
    "        # no 'longitude' dimension found\n",
    "        return None\n",
    "\n",
    "\n",
    "    def _get_name_latitude(self):\n",
    "        \"\"\"\n",
    "        check for 'latitude' dimension and return name\n",
    "        \"\"\"\n",
    "        for dim in self.ds.dims:\n",
    "            if (('units' in self.ds[dim].attrs  and\n",
    "                self.ds[dim].attrs['units'] in ['degree_north', 'degrees_north']) or\n",
    "                dim in ['lat', 'latitude', 'y']):\n",
    "                return dim\n",
    "        # no 'latitude' dimension found\n",
    "        return None\n",
    "\n",
    "    def _get_name_depth(self):\n",
    "        \"\"\"\n",
    "        check for 'depth' dimension and return name\n",
    "        \"\"\"\n",
    "        for dim in self.ds.dims:\n",
    "            if (('units' in self.ds[dim].attrs  and\n",
    "                self.ds[dim].attrs['units'] in ['vertical', 'level']) or\n",
    "                dim in ['level', 'depth']):\n",
    "                return dim\n",
    "        # no 'latitude' dimension found\n",
    "        return None\n",
    "\n",
    "    from pyTEF.calc import convert_q_to_Q\n",
    "    from pyTEF.calc import sort_1dim\n",
    "    from pyTEF.calc import sort_2dim\n",
    "    from pyTEF.calc import calc_bulk_values"
   ]
  },
  {
   "cell_type": "code",
   "execution_count": 5,
   "metadata": {},
   "outputs": [
    {
     "data": {
      "text/markdown": [
       "<h2 id=\"TEF_object\" class=\"doc_header\"><code>class</code> <code>TEF_object</code><a href=\"\" class=\"source_link\" style=\"float:right\">[source]</a></h2>\n",
       "\n",
       "> <code>TEF_object</code>(**`filename`**=*`None`*, **`ds`**=*`None`*, **\\*\\*`kwargs`**)\n",
       "\n",
       "Total Exchange Flow (TEF) Object used for calculating TEF properties"
      ],
      "text/plain": [
       "<IPython.core.display.Markdown object>"
      ]
     },
     "metadata": {},
     "output_type": "display_data"
    }
   ],
   "source": [
    "show_doc(TEF_object)"
   ]
  },
  {
   "cell_type": "markdown",
   "metadata": {},
   "source": [
    "The user can either provide the path to a netCDF-dataset using `filename`, which will then be loaded as a xarray dataset. If a pre-loaded xarray dataset is already present, the user can simply assign this to the `TEF_object` by using `ds`."
   ]
  },
  {
   "cell_type": "code",
   "execution_count": 6,
   "metadata": {},
   "outputs": [
    {
     "data": {
      "text/markdown": [
       "<h4 id=\"TEF_object.timesteps\" class=\"doc_header\"><code>TEF_object.timesteps</code><a href=\"\" class=\"source_link\" style=\"float:right\">[source]</a></h4>\n",
       "\n"
      ],
      "text/plain": [
       "<IPython.core.display.Markdown object>"
      ]
     },
     "metadata": {},
     "output_type": "display_data"
    }
   ],
   "source": [
    "show_doc(TEF_object.timesteps)"
   ]
  },
  {
   "cell_type": "markdown",
   "metadata": {},
   "source": [
    "Returns the number of timesteps of the given dataset."
   ]
  },
  {
   "cell_type": "code",
   "execution_count": 7,
   "metadata": {},
   "outputs": [
    {
     "data": {
      "text/markdown": [
       "<h4 id=\"TEF_object.read\" class=\"doc_header\"><code>TEF_object.read</code><a href=\"__main__.py#L68\" class=\"source_link\" style=\"float:right\">[source]</a></h4>\n",
       "\n",
       "> <code>TEF_object.read</code>(**`filename`**, **\\*\\*`kwargs`**)\n",
       "\n",
       "Reads xarray dataset"
      ],
      "text/plain": [
       "<IPython.core.display.Markdown object>"
      ]
     },
     "metadata": {},
     "output_type": "display_data"
    }
   ],
   "source": [
    "show_doc(TEF_object.read)"
   ]
  },
  {
   "cell_type": "markdown",
   "metadata": {},
   "source": [
    "Is called during the initialization of the `TEF_object` when a `filename` is provided."
   ]
  },
  {
   "cell_type": "code",
   "execution_count": 8,
   "metadata": {},
   "outputs": [
    {
     "data": {
      "text/markdown": [
       "<h4 id=\"TEF_object.set_up\" class=\"doc_header\"><code>TEF_object.set_up</code><a href=\"__main__.py#L76\" class=\"source_link\" style=\"float:right\">[source]</a></h4>\n",
       "\n",
       "> <code>TEF_object.set_up</code>(**`time_name`**=*`None`*, **`longitude_name`**=*`None`*, **`latitude_name`**=*`None`*, **`depth_name`**=*`None`*)\n",
       "\n",
       "Sets up a xarray.dataset and transposes dimensions into needed format"
      ],
      "text/plain": [
       "<IPython.core.display.Markdown object>"
      ]
     },
     "metadata": {},
     "output_type": "display_data"
    }
   ],
   "source": [
    "show_doc(TEF_object.set_up)"
   ]
  },
  {
   "cell_type": "markdown",
   "metadata": {},
   "source": [
    "`TEF_object.set_up` tries to automatically find the corresponding dimensions. If no 4D array is provided, dummy dimensions will be created. However, sometimes the naming of the dimensions deviates from common dimension descriptions. If so, the explicit dimension names can be provided as well. The function automatically reorders the dimensions into `time, z, y, x`."
   ]
  },
  {
   "cell_type": "code",
   "execution_count": 9,
   "metadata": {},
   "outputs": [
    {
     "ename": "Warning",
     "evalue": "\n 'time' dimension (dtype='datetime64[ns]') not found.",
     "output_type": "error",
     "traceback": [
      "\u001b[0;31m---------------------------------------------------------------------------\u001b[0m",
      "\u001b[0;31mWarning\u001b[0m                                   Traceback (most recent call last)",
      "\u001b[0;32m/tmp/ipykernel_222172/1022547624.py\u001b[0m in \u001b[0;36m<module>\u001b[0;34m\u001b[0m\n\u001b[1;32m     14\u001b[0m \u001b[0;34m\u001b[0m\u001b[0m\n\u001b[1;32m     15\u001b[0m \u001b[0mtef\u001b[0m \u001b[0;34m=\u001b[0m \u001b[0mTEF_object\u001b[0m\u001b[0;34m(\u001b[0m\u001b[0mds\u001b[0m\u001b[0;34m=\u001b[0m\u001b[0mds\u001b[0m\u001b[0;34m)\u001b[0m\u001b[0;34m\u001b[0m\u001b[0;34m\u001b[0m\u001b[0m\n\u001b[0;32m---> 16\u001b[0;31m \u001b[0mtef\u001b[0m\u001b[0;34m.\u001b[0m\u001b[0mset_up\u001b[0m\u001b[0;34m(\u001b[0m\u001b[0mlatitude_name\u001b[0m\u001b[0;34m=\u001b[0m\u001b[0;34m\"lAtiTude\"\u001b[0m\u001b[0;34m,\u001b[0m \u001b[0mdepth_name\u001b[0m\u001b[0;34m=\u001b[0m\u001b[0;34m\"dePht\"\u001b[0m\u001b[0;34m)\u001b[0m\u001b[0;34m\u001b[0m\u001b[0;34m\u001b[0m\u001b[0m\n\u001b[0m\u001b[1;32m     17\u001b[0m \u001b[0mtef\u001b[0m\u001b[0;34m.\u001b[0m\u001b[0mds\u001b[0m\u001b[0;34m\u001b[0m\u001b[0;34m\u001b[0m\u001b[0m\n",
      "\u001b[0;32m/tmp/ipykernel_222172/3042263914.py\u001b[0m in \u001b[0;36mset_up\u001b[0;34m(self, time_name, longitude_name, latitude_name, depth_name)\u001b[0m\n\u001b[1;32m     82\u001b[0m         \u001b[0;31m# set dimensions\u001b[0m\u001b[0;34m\u001b[0m\u001b[0;34m\u001b[0m\u001b[0;34m\u001b[0m\u001b[0m\n\u001b[1;32m     83\u001b[0m         \u001b[0;32mif\u001b[0m \u001b[0mtime_name\u001b[0m \u001b[0;32mis\u001b[0m \u001b[0;32mNone\u001b[0m\u001b[0;34m:\u001b[0m\u001b[0;34m\u001b[0m\u001b[0;34m\u001b[0m\u001b[0m\n\u001b[0;32m---> 84\u001b[0;31m             \u001b[0mself\u001b[0m\u001b[0;34m.\u001b[0m\u001b[0m_time_name\u001b[0m \u001b[0;34m=\u001b[0m \u001b[0mself\u001b[0m\u001b[0;34m.\u001b[0m\u001b[0m_get_name_time\u001b[0m\u001b[0;34m(\u001b[0m\u001b[0;34m)\u001b[0m\u001b[0;34m\u001b[0m\u001b[0;34m\u001b[0m\u001b[0m\n\u001b[0m\u001b[1;32m     85\u001b[0m         \u001b[0;32melse\u001b[0m\u001b[0;34m:\u001b[0m\u001b[0;34m\u001b[0m\u001b[0;34m\u001b[0m\u001b[0m\n\u001b[1;32m     86\u001b[0m             \u001b[0mself\u001b[0m\u001b[0;34m.\u001b[0m\u001b[0m_time_name\u001b[0m \u001b[0;34m=\u001b[0m \u001b[0mtime_name\u001b[0m\u001b[0;34m\u001b[0m\u001b[0;34m\u001b[0m\u001b[0m\n",
      "\u001b[0;32m/tmp/ipykernel_222172/3042263914.py\u001b[0m in \u001b[0;36m_get_name_time\u001b[0;34m(self, x)\u001b[0m\n\u001b[1;32m    152\u001b[0m                     \u001b[0;32mreturn\u001b[0m \u001b[0mdim\u001b[0m\u001b[0;34m\u001b[0m\u001b[0;34m\u001b[0m\u001b[0m\n\u001b[1;32m    153\u001b[0m             \u001b[0;31m# no 'time' dimension found\u001b[0m\u001b[0;34m\u001b[0m\u001b[0;34m\u001b[0m\u001b[0;34m\u001b[0m\u001b[0m\n\u001b[0;32m--> 154\u001b[0;31m             raise Warning(\n\u001b[0m\u001b[1;32m    155\u001b[0m                 \u001b[0;34m\"\\n 'time' dimension (dtype='datetime64[ns]') not found.\"\u001b[0m\u001b[0;34m\u001b[0m\u001b[0;34m\u001b[0m\u001b[0m\n\u001b[1;32m    156\u001b[0m             )\n",
      "\u001b[0;31mWarning\u001b[0m: \n 'time' dimension (dtype='datetime64[ns]') not found."
     ]
    }
   ],
   "source": [
    "# Try using uncommon dimensions\n",
    "import xarray as xr\n",
    "import numpy as np \n",
    "\n",
    "lat = np.arange(-180, 180)\n",
    "lon = 37\n",
    "depth = np.arange(0, 200)\n",
    "time = 2\n",
    "dummy_var = np.zeros((lat.size, depth.size))\n",
    "\n",
    "ds = xr.Dataset({'dummy': ([\"lAtiTude\", \"dePht\"], dummy_var)},\n",
    "                coords = {'lAtiTude': ([\"lAtiTude\"], lat),\n",
    "                          'dePht': ([\"dePht\"], depth)})\n",
    "\n",
    "tef = TEF_object(ds=ds)\n",
    "tef.set_up(latitude_name=\"lAtiTude\", depth_name=\"dePht\")\n",
    "tef.ds"
   ]
  },
  {
   "cell_type": "code",
   "execution_count": null,
   "metadata": {},
   "outputs": [
    {
     "data": {
      "text/markdown": [
       "<h4 id=\"TEF_object._get_name_time\" class=\"doc_header\"><code>TEF_object._get_name_time</code><a href=\"__main__.py#L129\" class=\"source_link\" style=\"float:right\">[source]</a></h4>\n",
       "\n",
       "> <code>TEF_object._get_name_time</code>(**`x`**=*`None`*)\n",
       "\n",
       "check for 'time' dimension and return name"
      ],
      "text/plain": [
       "<IPython.core.display.Markdown object>"
      ]
     },
     "metadata": {},
     "output_type": "display_data"
    }
   ],
   "source": [
    "show_doc(TEF_object._get_name_time)"
   ]
  },
  {
   "cell_type": "code",
   "execution_count": null,
   "metadata": {},
   "outputs": [
    {
     "data": {
      "text/markdown": [
       "<h4 id=\"TEF_object._get_name_depth\" class=\"doc_header\"><code>TEF_object._get_name_depth</code><a href=\"__main__.py#L191\" class=\"source_link\" style=\"float:right\">[source]</a></h4>\n",
       "\n",
       "> <code>TEF_object._get_name_depth</code>()\n",
       "\n",
       "check for 'depth' dimension and return name"
      ],
      "text/plain": [
       "<IPython.core.display.Markdown object>"
      ]
     },
     "metadata": {},
     "output_type": "display_data"
    }
   ],
   "source": [
    "show_doc(TEF_object._get_name_depth)"
   ]
  },
  {
   "cell_type": "code",
   "execution_count": null,
   "metadata": {},
   "outputs": [
    {
     "data": {
      "text/markdown": [
       "<h4 id=\"TEF_object._get_name_longitude\" class=\"doc_header\"><code>TEF_object._get_name_longitude</code><a href=\"__main__.py#L160\" class=\"source_link\" style=\"float:right\">[source]</a></h4>\n",
       "\n",
       "> <code>TEF_object._get_name_longitude</code>()\n",
       "\n",
       "check for 'longitude' dimension and return name"
      ],
      "text/plain": [
       "<IPython.core.display.Markdown object>"
      ]
     },
     "metadata": {},
     "output_type": "display_data"
    }
   ],
   "source": [
    "show_doc(TEF_object._get_name_longitude)"
   ]
  },
  {
   "cell_type": "code",
   "execution_count": null,
   "metadata": {},
   "outputs": [
    {
     "data": {
      "text/markdown": [
       "<h4 id=\"TEF_object._get_name_latitude\" class=\"doc_header\"><code>TEF_object._get_name_latitude</code><a href=\"__main__.py#L176\" class=\"source_link\" style=\"float:right\">[source]</a></h4>\n",
       "\n",
       "> <code>TEF_object._get_name_latitude</code>()\n",
       "\n",
       "check for 'latitude' dimension and return name"
      ],
      "text/plain": [
       "<IPython.core.display.Markdown object>"
      ]
     },
     "metadata": {},
     "output_type": "display_data"
    }
   ],
   "source": [
    "show_doc(TEF_object._get_name_latitude)"
   ]
  }
 ],
 "metadata": {
  "interpreter": {
   "hash": "5ddaae1b1aacab30e6f9d299f885d3d1a71d6c802be31530f91bd978b8a5f689"
  },
  "kernelspec": {
   "display_name": "Python 3 (ipykernel)",
   "language": "python",
   "name": "python3"
  },
  "language_info": {
   "codemirror_mode": {
    "name": "ipython",
    "version": 3
   },
   "file_extension": ".py",
   "mimetype": "text/x-python",
   "name": "python",
   "nbconvert_exporter": "python",
   "pygments_lexer": "ipython3",
   "version": "3.8.10"
  }
 },
 "nbformat": 4,
 "nbformat_minor": 4
}
