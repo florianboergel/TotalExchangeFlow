{
 "cells": [
  {
   "cell_type": "code",
   "execution_count": 2,
   "metadata": {},
   "outputs": [],
   "source": [
    "# default_exp tef_core\n",
    "from nbdev import *"
   ]
  },
  {
   "cell_type": "markdown",
   "metadata": {},
   "source": [
    "# TEF core framework\n",
    "\n",
    "> contains TEF framework"
   ]
  },
  {
   "cell_type": "code",
   "execution_count": 3,
   "metadata": {},
   "outputs": [],
   "source": [
    "#export\n",
    "import math\n",
    "import numpy as np\n",
    "import xarray as xr\n",
    "import time"
   ]
  },
  {
   "cell_type": "code",
   "execution_count": 5,
   "metadata": {},
   "outputs": [],
   "source": [
    "#export\n",
    "\n",
    "data_description = {\n",
    "    \"lon\" : \"xt_ocean\",\n",
    "    \"lat\" : \"yt_ocean\",\n",
    "    \"depth\" : \"st_ocean\",\n",
    "    \"time\" : \"time\"\n",
    "}\n",
    "\n",
    "class constructorTEF:\n",
    "    \n",
    "    def __init__(self, inputFile, data_description, **kwargs):\n",
    "        if isinstance(inputFile, str):\n",
    "            try:\n",
    "                self._read(fileName=inputFile)\n",
    "            except (OSError, IOError, RunetimeError):\n",
    "                raise IOError(\"Could not read file.\")\n",
    "        elif isinstance(inputFile, xr.Dataset):\n",
    "            self.ds = inputFile\n",
    "        elif isinstance(inputFile, xr.DataArray):\n",
    "            self.ds = inputFile\n",
    "        else:\n",
    "            raise IOError(\"Please provide xarray Dataset/DataArray or netcdf-filepath\")\n",
    "        \n",
    "        self._setup(data=data_description)\n",
    "        \n",
    "        self.transport = None\n",
    "        self.tracer = None\n",
    "        \n",
    "    def _read(self, fileName, **kwargs):\n",
    "        self.ds = xr.open_dataset(filename, use_cftime=True, **kwargs)\n",
    "        \n",
    "    def _setup(self, data):\n",
    "        \n",
    "        for dimension in data.keys():\n",
    "            if data[dimension] is None:\n",
    "                self.ds = self.ds.expand_dims(dimension)\n",
    "            else:\n",
    "                self.ds = self.ds.rename({data[dimension]: dimension})\n",
    "                                                       \n",
    "        self.ds = self.ds.transpose(\"time\",\n",
    "                                    \"depth\",\n",
    "                                    \"lat\",\n",
    "                                    \"lon\")"
   ]
  },
  {
   "cell_type": "code",
   "execution_count": 4,
   "metadata": {},
   "outputs": [
    {
     "ename": "NameError",
     "evalue": "name 'show_doc' is not defined",
     "output_type": "error",
     "traceback": [
      "\u001b[0;31m---------------------------------------------------------------------------\u001b[0m",
      "\u001b[0;31mNameError\u001b[0m                                 Traceback (most recent call last)",
      "Input \u001b[0;32mIn [4]\u001b[0m, in \u001b[0;36m<module>\u001b[0;34m\u001b[0m\n\u001b[0;32m----> 1\u001b[0m \u001b[43mshow_doc\u001b[49m(constructorTEF)\n",
      "\u001b[0;31mNameError\u001b[0m: name 'show_doc' is not defined"
     ]
    }
   ],
   "source": [
    "show_doc(constructorTEF)"
   ]
  },
  {
   "cell_type": "markdown",
   "metadata": {},
   "source": [
    "The user can either provide the path to a netCDF-dataset using `filename`, which will then be loaded as a xarray dataset. If a pre-loaded xarray dataset is already present, the user can simply assign this to the `TEF_object` by using `ds`."
   ]
  },
  {
   "cell_type": "code",
   "execution_count": 6,
   "metadata": {},
   "outputs": [
    {
     "data": {
      "text/markdown": [
       "<h4 id=\"TEF_object.timesteps\" class=\"doc_header\"><code>TEF_object.timesteps</code><a href=\"\" class=\"source_link\" style=\"float:right\">[source]</a></h4>\n",
       "\n"
      ],
      "text/plain": [
       "<IPython.core.display.Markdown object>"
      ]
     },
     "metadata": {},
     "output_type": "display_data"
    }
   ],
   "source": [
    "show_doc(TEF_object.timesteps)"
   ]
  },
  {
   "cell_type": "markdown",
   "metadata": {},
   "source": [
    "Returns the number of timesteps of the given dataset."
   ]
  },
  {
   "cell_type": "code",
   "execution_count": 7,
   "metadata": {},
   "outputs": [
    {
     "data": {
      "text/markdown": [
       "<h4 id=\"TEF_object.read\" class=\"doc_header\"><code>TEF_object.read</code><a href=\"__main__.py#L68\" class=\"source_link\" style=\"float:right\">[source]</a></h4>\n",
       "\n",
       "> <code>TEF_object.read</code>(**`filename`**, **\\*\\*`kwargs`**)\n",
       "\n",
       "Reads xarray dataset"
      ],
      "text/plain": [
       "<IPython.core.display.Markdown object>"
      ]
     },
     "metadata": {},
     "output_type": "display_data"
    }
   ],
   "source": [
    "show_doc(TEF_object.read)"
   ]
  },
  {
   "cell_type": "markdown",
   "metadata": {},
   "source": [
    "Is called during the initialization of the `TEF_object` when a `filename` is provided."
   ]
  },
  {
   "cell_type": "code",
   "execution_count": 8,
   "metadata": {},
   "outputs": [
    {
     "data": {
      "text/markdown": [
       "<h4 id=\"TEF_object.set_up\" class=\"doc_header\"><code>TEF_object.set_up</code><a href=\"__main__.py#L76\" class=\"source_link\" style=\"float:right\">[source]</a></h4>\n",
       "\n",
       "> <code>TEF_object.set_up</code>(**`time_name`**=*`None`*, **`longitude_name`**=*`None`*, **`latitude_name`**=*`None`*, **`depth_name`**=*`None`*)\n",
       "\n",
       "Sets up a xarray.dataset and transposes dimensions into needed format"
      ],
      "text/plain": [
       "<IPython.core.display.Markdown object>"
      ]
     },
     "metadata": {},
     "output_type": "display_data"
    }
   ],
   "source": [
    "show_doc(TEF_object.set_up)"
   ]
  },
  {
   "cell_type": "markdown",
   "metadata": {},
   "source": [
    "`TEF_object.set_up` tries to automatically find the corresponding dimensions. If no 4D array is provided, dummy dimensions will be created. However, sometimes the naming of the dimensions deviates from common dimension descriptions. If so, the explicit dimension names can be provided as well. The function automatically reorders the dimensions into `time, z, y, x`."
   ]
  },
  {
   "cell_type": "code",
   "execution_count": 9,
   "metadata": {},
   "outputs": [
    {
     "ename": "Warning",
     "evalue": "\n 'time' dimension (dtype='datetime64[ns]') not found.",
     "output_type": "error",
     "traceback": [
      "\u001b[0;31m---------------------------------------------------------------------------\u001b[0m",
      "\u001b[0;31mWarning\u001b[0m                                   Traceback (most recent call last)",
      "\u001b[0;32m/tmp/ipykernel_222172/1022547624.py\u001b[0m in \u001b[0;36m<module>\u001b[0;34m\u001b[0m\n\u001b[1;32m     14\u001b[0m \u001b[0;34m\u001b[0m\u001b[0m\n\u001b[1;32m     15\u001b[0m \u001b[0mtef\u001b[0m \u001b[0;34m=\u001b[0m \u001b[0mTEF_object\u001b[0m\u001b[0;34m(\u001b[0m\u001b[0mds\u001b[0m\u001b[0;34m=\u001b[0m\u001b[0mds\u001b[0m\u001b[0;34m)\u001b[0m\u001b[0;34m\u001b[0m\u001b[0;34m\u001b[0m\u001b[0m\n\u001b[0;32m---> 16\u001b[0;31m \u001b[0mtef\u001b[0m\u001b[0;34m.\u001b[0m\u001b[0mset_up\u001b[0m\u001b[0;34m(\u001b[0m\u001b[0mlatitude_name\u001b[0m\u001b[0;34m=\u001b[0m\u001b[0;34m\"lAtiTude\"\u001b[0m\u001b[0;34m,\u001b[0m \u001b[0mdepth_name\u001b[0m\u001b[0;34m=\u001b[0m\u001b[0;34m\"dePht\"\u001b[0m\u001b[0;34m)\u001b[0m\u001b[0;34m\u001b[0m\u001b[0;34m\u001b[0m\u001b[0m\n\u001b[0m\u001b[1;32m     17\u001b[0m \u001b[0mtef\u001b[0m\u001b[0;34m.\u001b[0m\u001b[0mds\u001b[0m\u001b[0;34m\u001b[0m\u001b[0;34m\u001b[0m\u001b[0m\n",
      "\u001b[0;32m/tmp/ipykernel_222172/3042263914.py\u001b[0m in \u001b[0;36mset_up\u001b[0;34m(self, time_name, longitude_name, latitude_name, depth_name)\u001b[0m\n\u001b[1;32m     82\u001b[0m         \u001b[0;31m# set dimensions\u001b[0m\u001b[0;34m\u001b[0m\u001b[0;34m\u001b[0m\u001b[0;34m\u001b[0m\u001b[0m\n\u001b[1;32m     83\u001b[0m         \u001b[0;32mif\u001b[0m \u001b[0mtime_name\u001b[0m \u001b[0;32mis\u001b[0m \u001b[0;32mNone\u001b[0m\u001b[0;34m:\u001b[0m\u001b[0;34m\u001b[0m\u001b[0;34m\u001b[0m\u001b[0m\n\u001b[0;32m---> 84\u001b[0;31m             \u001b[0mself\u001b[0m\u001b[0;34m.\u001b[0m\u001b[0m_time_name\u001b[0m \u001b[0;34m=\u001b[0m \u001b[0mself\u001b[0m\u001b[0;34m.\u001b[0m\u001b[0m_get_name_time\u001b[0m\u001b[0;34m(\u001b[0m\u001b[0;34m)\u001b[0m\u001b[0;34m\u001b[0m\u001b[0;34m\u001b[0m\u001b[0m\n\u001b[0m\u001b[1;32m     85\u001b[0m         \u001b[0;32melse\u001b[0m\u001b[0;34m:\u001b[0m\u001b[0;34m\u001b[0m\u001b[0;34m\u001b[0m\u001b[0m\n\u001b[1;32m     86\u001b[0m             \u001b[0mself\u001b[0m\u001b[0;34m.\u001b[0m\u001b[0m_time_name\u001b[0m \u001b[0;34m=\u001b[0m \u001b[0mtime_name\u001b[0m\u001b[0;34m\u001b[0m\u001b[0;34m\u001b[0m\u001b[0m\n",
      "\u001b[0;32m/tmp/ipykernel_222172/3042263914.py\u001b[0m in \u001b[0;36m_get_name_time\u001b[0;34m(self, x)\u001b[0m\n\u001b[1;32m    152\u001b[0m                     \u001b[0;32mreturn\u001b[0m \u001b[0mdim\u001b[0m\u001b[0;34m\u001b[0m\u001b[0;34m\u001b[0m\u001b[0m\n\u001b[1;32m    153\u001b[0m             \u001b[0;31m# no 'time' dimension found\u001b[0m\u001b[0;34m\u001b[0m\u001b[0;34m\u001b[0m\u001b[0;34m\u001b[0m\u001b[0m\n\u001b[0;32m--> 154\u001b[0;31m             raise Warning(\n\u001b[0m\u001b[1;32m    155\u001b[0m                 \u001b[0;34m\"\\n 'time' dimension (dtype='datetime64[ns]') not found.\"\u001b[0m\u001b[0;34m\u001b[0m\u001b[0;34m\u001b[0m\u001b[0m\n\u001b[1;32m    156\u001b[0m             )\n",
      "\u001b[0;31mWarning\u001b[0m: \n 'time' dimension (dtype='datetime64[ns]') not found."
     ]
    }
   ],
   "source": [
    "# Try using uncommon dimensions\n",
    "import xarray as xr\n",
    "import numpy as np \n",
    "\n",
    "lat = np.arange(-180, 180)\n",
    "lon = 37\n",
    "depth = np.arange(0, 200)\n",
    "time = 2\n",
    "dummy_var = np.zeros((lat.size, depth.size))\n",
    "\n",
    "ds = xr.Dataset({'dummy': ([\"lAtiTude\", \"dePht\"], dummy_var)},\n",
    "                coords = {'lAtiTude': ([\"lAtiTude\"], lat),\n",
    "                          'dePht': ([\"dePht\"], depth)})\n",
    "\n",
    "tef = TEF_object(ds=ds)\n",
    "tef.set_up(latitude_name=\"lAtiTude\", depth_name=\"dePht\")\n",
    "tef.ds"
   ]
  },
  {
   "cell_type": "code",
   "execution_count": null,
   "metadata": {},
   "outputs": [
    {
     "data": {
      "text/markdown": [
       "<h4 id=\"TEF_object._get_name_time\" class=\"doc_header\"><code>TEF_object._get_name_time</code><a href=\"__main__.py#L129\" class=\"source_link\" style=\"float:right\">[source]</a></h4>\n",
       "\n",
       "> <code>TEF_object._get_name_time</code>(**`x`**=*`None`*)\n",
       "\n",
       "check for 'time' dimension and return name"
      ],
      "text/plain": [
       "<IPython.core.display.Markdown object>"
      ]
     },
     "metadata": {},
     "output_type": "display_data"
    }
   ],
   "source": [
    "show_doc(TEF_object._get_name_time)"
   ]
  },
  {
   "cell_type": "code",
   "execution_count": null,
   "metadata": {},
   "outputs": [
    {
     "data": {
      "text/markdown": [
       "<h4 id=\"TEF_object._get_name_depth\" class=\"doc_header\"><code>TEF_object._get_name_depth</code><a href=\"__main__.py#L191\" class=\"source_link\" style=\"float:right\">[source]</a></h4>\n",
       "\n",
       "> <code>TEF_object._get_name_depth</code>()\n",
       "\n",
       "check for 'depth' dimension and return name"
      ],
      "text/plain": [
       "<IPython.core.display.Markdown object>"
      ]
     },
     "metadata": {},
     "output_type": "display_data"
    }
   ],
   "source": [
    "show_doc(TEF_object._get_name_depth)"
   ]
  },
  {
   "cell_type": "code",
   "execution_count": null,
   "metadata": {},
   "outputs": [
    {
     "data": {
      "text/markdown": [
       "<h4 id=\"TEF_object._get_name_longitude\" class=\"doc_header\"><code>TEF_object._get_name_longitude</code><a href=\"__main__.py#L160\" class=\"source_link\" style=\"float:right\">[source]</a></h4>\n",
       "\n",
       "> <code>TEF_object._get_name_longitude</code>()\n",
       "\n",
       "check for 'longitude' dimension and return name"
      ],
      "text/plain": [
       "<IPython.core.display.Markdown object>"
      ]
     },
     "metadata": {},
     "output_type": "display_data"
    }
   ],
   "source": [
    "show_doc(TEF_object._get_name_longitude)"
   ]
  },
  {
   "cell_type": "code",
   "execution_count": null,
   "metadata": {},
   "outputs": [
    {
     "data": {
      "text/markdown": [
       "<h4 id=\"TEF_object._get_name_latitude\" class=\"doc_header\"><code>TEF_object._get_name_latitude</code><a href=\"__main__.py#L176\" class=\"source_link\" style=\"float:right\">[source]</a></h4>\n",
       "\n",
       "> <code>TEF_object._get_name_latitude</code>()\n",
       "\n",
       "check for 'latitude' dimension and return name"
      ],
      "text/plain": [
       "<IPython.core.display.Markdown object>"
      ]
     },
     "metadata": {},
     "output_type": "display_data"
    }
   ],
   "source": [
    "show_doc(TEF_object._get_name_latitude)"
   ]
  }
 ],
 "metadata": {
  "interpreter": {
   "hash": "5ddaae1b1aacab30e6f9d299f885d3d1a71d6c802be31530f91bd978b8a5f689"
  },
  "kernelspec": {
   "display_name": "Python 3",
   "language": "python",
   "name": "python3"
  },
  "language_info": {
   "codemirror_mode": {
    "name": "ipython",
    "version": 3
   },
   "file_extension": ".py",
   "mimetype": "text/x-python",
   "name": "python",
   "nbconvert_exporter": "python",
   "pygments_lexer": "ipython3",
   "version": "3.10.2"
  }
 },
 "nbformat": 4,
 "nbformat_minor": 4
}
