{
 "cells": [
  {
   "cell_type": "markdown",
   "metadata": {},
   "source": [
    "# Example 2\n",
    "\n",
    "> This example will validate the code of the TEF package by comparing the results with the analytical example of Burchard et al. (2019) and Lorenz et al. (2019)."
   ]
  },
  {
   "cell_type": "code",
   "execution_count": 101,
   "metadata": {},
   "outputs": [],
   "source": [
    "from TotalExchangeFlow.tef_core import *\n",
    "import numpy as np\n",
    "import pylab as plt\n",
    "import xarray as xr"
   ]
  },
  {
   "cell_type": "markdown",
   "metadata": {},
   "source": [
    "We start by defining the necessary parameters:\n",
    "\n",
    "Cross section: $ A = 10000 m^2$\n",
    "\n",
    "Tidal period: $ T = 12 h * 3600 \\frac{s}{h}$\n",
    "\n",
    "Tidal frequency: $\\omega = 2 * \\pi / T$ \n",
    "\n",
    "Residual velocity: $ u_r = -0.1 $\n",
    "\n",
    "Tidal velocity amplitude: $ u_a = 1.$\n",
    "\n",
    "Residual salinity: $s_r = 20. g/kg$ \n",
    "\n",
    "amplitude of salinity changes within one tidal cycle: $s_a = 10. g/kg$ \n",
    "\n",
    "phase lag between velocity and salt: $\\phi = \\arccos(-2\\frac{u_r s_r}{u_a s_a}) $\n",
    "\n",
    "N = 10000\n"
   ]
  },
  {
   "cell_type": "code",
   "execution_count": 8,
   "metadata": {},
   "outputs": [],
   "source": [
    "A = 10000. \n",
    "T = 12*3600\n",
    "omega = 2*np.pi/T #\n",
    "u_r = -0.1 \n",
    "u_a = 1.\n",
    "s_r = 20. \n",
    "s_a = 10. \n",
    "phi = -np.arccos(-2*(u_r*s_r)/(u_a*s_a)) \n",
    "N = 10000"
   ]
  },
  {
   "cell_type": "code",
   "execution_count": 9,
   "metadata": {},
   "outputs": [],
   "source": [
    "def u_vel_analytical(t):\n",
    "    return u_r+u_a*np.cos(2*np.pi*t)\n",
    "    \n",
    "def s_analytical(t):\n",
    "    return s_r + s_a*np.cos(2*np.pi*t+phi)"
   ]
  },
  {
   "cell_type": "markdown",
   "metadata": {},
   "source": [
    "Define analytical solution according to Appendix of Lorenz et al. (2019)"
   ]
  },
  {
   "cell_type": "code",
   "execution_count": 44,
   "metadata": {},
   "outputs": [],
   "source": [
    "def Q_analytical(S):\n",
    "    t_1 = -1/omega*(np.arccos((S-s_r)/s_a)+phi)\n",
    "    t_2 = 1/omega*(np.arccos((S-s_r)/s_a)-phi)\n",
    "    Q = A/T*(u_r*t_2+u_a/omega*np.sin(omega*t_2)-u_r*t_1-u_a/omega*np.sin(omega*t_1))\n",
    "    return(Q)\n",
    "    \n",
    "def Qs_analytical(S):\n",
    "    t_1 = -1/omega*(np.arccos((S-s_r)/s_a)+phi)\n",
    "    t_2 = 1/omega*(np.arccos((S-s_r)/s_a)-phi)\n",
    "    Qs = A/T*(u_r*s_r*(t_2-t_1)+u_a*s_r/omega*(np.sin(omega*t_2)-np.sin(omega*t_1)) + u_r*s_a/omega*(np.sin(omega*t_2 + phi)-np.sin(omega*t_1+phi))\\\n",
    "    +u_a*s_a/2*np.cos(phi)*(t_2-t_1 + 1/omega *np.sin(omega*t_2)*np.cos(omega*t_2) - 1/omega *np.sin(omega*t_1)*np.cos(omega*t_1))\\\n",
    "    -u_a*s_a*np.sin(phi)/2/omega*(np.sin(omega*t_2)**2 - np.sin(omega*t_1)**2))\n",
    "    return(Qs)    \n",
    "    \n",
    "def q_analytical(S):\n",
    "    q=-A/(T*omega)*1/(np.sqrt(s_a**2-(S-s_r)**2))*(-2*u_r-u_a*np.cos(np.arccos((S-s_r)/s_a)-phi)-u_a*np.cos(np.arccos((S-s_r)/s_a)+phi))\n",
    "    return(q)"
   ]
  },
  {
   "cell_type": "markdown",
   "metadata": {},
   "source": [
    "Create the discrete values for time, volume transport, salt, and salt transport for N discrete value:\n",
    "\n",
    "TODO: which velocity for salt transport?"
   ]
  },
  {
   "cell_type": "code",
   "execution_count": 51,
   "metadata": {},
   "outputs": [],
   "source": [
    "t = np.float64(np.arange(0, 1, 1/N))                  # time array (0 to 1 , so relative to one Tidal cycle T)\n",
    "volume_transport = A*np.float64(u_vel_analytical(t))    # volume transport\n",
    "salt = np.float64(s_analytical(t))                    # salt / salinity\n",
    "salt_transport = A*np.float64(u_vel_analytical(t)*salt) # salt transport\n",
    "\n",
    "data = xr.Dataset({\"salt\": ([\"time\"], salt),                 \n",
    "                   \"volume_transport\": ([\"time\"], volume_transport),\n",
    "                   \"salt_transport\": ([\"time\"], salt_transport)},\n",
    "                    coords={\"time\": ([\"time\"], t)})"
   ]
  },
  {
   "cell_type": "code",
   "execution_count": 109,
   "metadata": {},
   "outputs": [
    {
     "data": {
      "image/png": "[encoded data removed]",
      "text/plain": [
       "<Figure size 432x288 with 2 Axes>"
      ]
     },
     "metadata": {
      "needs_background": "light"
     },
     "output_type": "display_data"
    }
   ],
   "source": [
    "fig, ax = plt.subplots(2,1,sharex=True)\n",
    "ax[0].plot(t, volume_transport, color='blue', label='volume transport')\n",
    "ax[0].legend(loc='upper left', bbox_to_anchor=(1.05, 1))\n",
    "ax[0].set_ylabel('volume transport / m$^3$ s$^{-1}$')\n",
    "ax[1].plot(t, salt, color='red', label='salt')\n",
    "ax[1].set_ylabel('salt / g kg$^{-1}$')\n",
    "ax[1].set_xlabel('relative time')\n",
    "ax[1].set_xlim(0,1)\n",
    "ax[1].legend(loc='upper left',bbox_to_anchor=(1.05, 1))\n",
    "plt.show()"
   ]
  },
  {
   "cell_type": "markdown",
   "metadata": {},
   "source": [
    "Perform TEF analysis using the `TotalExchangeFlow` package."
   ]
  },
  {
   "cell_type": "code",
   "execution_count": 80,
   "metadata": {},
   "outputs": [
    {
     "name": "stdout",
     "output_type": "stream",
     "text": [
      "Created dummy dimension for longitude\n",
      "Created dummy dimension for latitude\n",
      "Created dummy dimension for depth\n"
     ]
    }
   ],
   "source": [
    "tef = TEF_object(ds=data)\n",
    "tef.set_up() # validate dimensions"
   ]
  },
  {
   "cell_type": "markdown",
   "metadata": {},
   "source": [
    "Sort into salinity classes. From the paper and the data we know what s_min and s_max should be:\n"
   ]
  },
  {
   "cell_type": "code",
   "execution_count": 81,
   "metadata": {},
   "outputs": [],
   "source": [
    "s_min  = 10.0\n",
    "s_max  = 31.0\n",
    "N_bins = 1024\n",
    "out_volume = tef.sort_1dim(tef.ds.salt,\n",
    "                    transport = tef.ds.volume_transport,\n",
    "                    N = N_bins,\n",
    "                    minmaxrange=(s_min, s_max))\n",
    "out_salt = tef.sort_1dim(tef.ds.salt,\n",
    "                    transport = tef.ds.salt_transport,\n",
    "                    N = N_bins,\n",
    "                    minmaxrange=(s_min, s_max))"
   ]
  },
  {
   "cell_type": "markdown",
   "metadata": {},
   "source": [
    "Do temporal mean and compute the numerical bulk values.\n",
    "Note that one must not average Q, but only q and then compute from the mean q the mean Q!!!"
   ]
  },
  {
   "cell_type": "code",
   "execution_count": 99,
   "metadata": {},
   "outputs": [],
   "source": [
    "q_mean = out_volume.q.mean('time')\n",
    "Delta_S=out_volume.var_q[1]-out_volume.var_q[0]\n",
    "\n",
    "#TODO make this a function of the class! Maybe Q aus der sort Function rausnehmen\n",
    "Q_mean=np.zeros((len(q_mean)+1,))\n",
    "for i in range(len(q_mean)):\n",
    "    Q_mean[i]=np.sum(q_mean[i:])*Delta_S\n",
    "\n",
    "bulk_values_volume = tef.calc_bulk_values(out_volume.var_Q,Q_mean)\n",
    "bulk_values_salt = tef.calc_bulk_values(out_salt.var_Q,Qs_mean)\n",
    "\n",
    "Q_in_num = bulk_values_volume.Qin[0].values\n",
    "Q_out_num = bulk_values_volume.Qout[0].values\n",
    "\n",
    "Qs_in_num = bulk_values_salt.Qin[0].values\n",
    "Qs_out_num = bulk_values_salt.Qout[0].values\n",
    "\n",
    "s_in_num  = Qs_in_num / Q_in_num\n",
    "s_out_num = Qs_out_num / Q_out_num"
   ]
  },
  {
   "cell_type": "markdown",
   "metadata": {},
   "source": [
    "Compare to analytical solution:"
   ]
  },
  {
   "cell_type": "code",
   "execution_count": 110,
   "metadata": {},
   "outputs": [
    {
     "name": "stdout",
     "output_type": "stream",
     "text": [
      "Q_in: analytical 813.2395113781663, numerical 813.3288721903209, relative error 0.00010988252649354561\n",
      "Q_out: analytical -1813.2395113781665, numerical -1813.328872190321, relative error 4.9282409518234414e-05\n",
      "s_in: analytical 28.423565664110257, numerical 284229.15741139144, relative error 9998.771343617198\n",
      "s_out: analytical 12.747994132742775, numerical 127484.75115922026, relative error 9999.377301067323\n"
     ]
    },
    {
     "name": "stderr",
     "output_type": "stream",
     "text": [
      "/silos/conda_packages/lorenz/miniconda3_4.8.2/OS_42.3/conda_env/iow_python/lib/python3.7/site-packages/xarray/core/computation.py:604: RuntimeWarning: invalid value encountered in arccos\n",
      "  result_data = func(*input_data)\n",
      "/silos/conda_packages/lorenz/miniconda3_4.8.2/OS_42.3/conda_env/iow_python/lib/python3.7/site-packages/xarray/core/computation.py:604: RuntimeWarning: invalid value encountered in sqrt\n",
      "  result_data = func(*input_data)\n",
      "/silos/conda_packages/lorenz/miniconda3_4.8.2/OS_42.3/conda_env/iow_python/lib/python3.7/site-packages/xarray/core/computation.py:604: RuntimeWarning: invalid value encountered in arccos\n",
      "  result_data = func(*input_data)\n"
     ]
    },
    {
     "data": {
      "image/png": "[encoded data removed]",
      "text/plain": [
       "<Figure size 432x288 with 2 Axes>"
      ]
     },
     "metadata": {
      "needs_background": "light"
     },
     "output_type": "display_data"
    }
   ],
   "source": [
    "s_div=np.float64(-s_a*u_r/u_a/np.cos(phi)+s_r) #dividing salinity\n",
    "\n",
    "Q_in_ana  = Q_analytical(s_div)\n",
    "Q_out_ana = Q_analytical(10.) - Q_in_ana\n",
    "\n",
    "Qs_in_ana = Qs_analytical(s_div)\n",
    "Qs_out_ana= Qs_analytical(10.) - Qs_in_ana\n",
    "\n",
    "s_in_ana  = Qs_in_ana / Q_in_ana\n",
    "s_out_ana = Qs_out_ana / Q_out_ana\n",
    "\n",
    "print('Q_in: analytical {}, numerical {}, relative error {}'.format(Q_in_ana,Q_in_num,np.abs((Q_in_num-Q_in_ana)/Q_in_ana)))\n",
    "print('Q_out: analytical {}, numerical {}, relative error {}'.format(Q_out_ana,Q_out_num,np.abs((Q_out_num-Q_out_ana)/Q_out_ana)))\n",
    "print('s_in: analytical {}, numerical {}, relative error {}'.format(s_in_ana,s_in_num,np.abs((s_in_num-s_in_ana)/s_in_ana)))\n",
    "print('s_out: analytical {}, numerical {}, relative error {}'.format(s_out_ana,s_out_num,np.abs((s_out_num-s_out_ana)/s_out_ana)))\n",
    "\n",
    "fig,ax=plt.subplots(1,2,sharex=True,sharey=True)\n",
    "ax[0].plot(Q_mean,out_volume.var_Q,color='blue',label='numerical Q')\n",
    "ax[0].plot(q_mean,out_volume.var_q,color='red',label='numerical q')\n",
    "ax[0].legend(loc='lower left')\n",
    "ax[0].set_ylabel('Salinity / g/kg')\n",
    "ax[0].set_xlabel('Q / m$^3$ s$^{-1}$ | q / m$^3$ s$^{-1}$ (g/kg)$^{-1}$')\n",
    "ax[1].plot(Q_analytical(out_volume.var_Q),out_volume.var_Q,color='blue',label='analytical Q')\n",
    "ax[1].plot(q_analytical(out_volume.var_q),out_volume.var_q,color='red',label='analytical q')\n",
    "ax[1].legend(loc='lower left')\n",
    "ax[1].set_xlim(-1000,1000)\n",
    "ax[1].set_ylim(30,10)\n",
    "ax[1].set_xlabel('Q / m$^3$ s$^{-1}$ | q / m$^3$ s$^{-1}$ (g/kg)$^{-1}$')\n",
    "plt.show()"
   ]
  },
  {
   "cell_type": "code",
   "execution_count": null,
   "metadata": {},
   "outputs": [],
   "source": []
  }
 ],
 "metadata": {
  "kernelspec": {
   "display_name": "(1) Python 3",
   "language": "python",
   "name": "iow_python"
  },
  "language_info": {
   "codemirror_mode": {
    "name": "ipython",
    "version": 3
   },
   "file_extension": ".py",
   "mimetype": "text/x-python",
   "name": "python",
   "nbconvert_exporter": "python",
   "pygments_lexer": "ipython3",
   "version": "3.7.7"
  }
 },
 "nbformat": 4,
 "nbformat_minor": 4
}
