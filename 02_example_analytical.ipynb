{
 "cells": [
  {
   "cell_type": "code",
   "execution_count": 1,
   "metadata": {},
   "outputs": [
    {
     "name": "stdout",
     "output_type": "stream",
     "text": [
      "['/fast/lorenz', '/silos/conda_packages/lorenz/miniconda3_4.8.2/OS_42.3/conda_env/iow_python/lib/python37.zip', '/silos/conda_packages/lorenz/miniconda3_4.8.2/OS_42.3/conda_env/iow_python/lib/python3.7', '/silos/conda_packages/lorenz/miniconda3_4.8.2/OS_42.3/conda_env/iow_python/lib/python3.7/lib-dynload', '', '/home/nis/lorenz/.local/lib/python3.7/site-packages', '/home/nis/lorenz/.local/lib/python3.7/site-packages/pygetm-0.1.1-py3.7.egg', '/home/nis/lorenz/.local/lib/python3.7/site-packages/wafo-0.4.0-py3.7-linux-x86_64.egg', '/home/nis/lorenz/.local/lib/python3.7/site-packages/numba-0.53.1-py3.7-linux-x86_64.egg', '/home/nis/lorenz/.local/lib/python3.7/site-packages/mpmath-1.2.1-py3.7.egg', '/home/nis/lorenz/.local/lib/python3.7/site-packages/numdifftools-0.9.39-py3.7.egg', '/home/nis/lorenz/.local/lib/python3.7/site-packages/llvmlite-0.36.0-py3.7-linux-x86_64.egg', '/silos/conda_packages/lorenz/miniconda3_4.8.2/OS_42.3/conda_env/iow_python/lib/python3.7/site-packages', '/silos/conda_packages/lorenz/miniconda3_4.8.2/OS_42.3/conda_env/iow_python/lib/python3.7/site-packages/TotalExchangeFlow-0.0.1-py3.7.egg', '/silos/conda_packages/lorenz/miniconda3_4.8.2/OS_42.3/conda_env/iow_python/lib/python3.7/site-packages/IPython/extensions', '/home/nis/lorenz/.ipython']\n"
     ]
    }
   ],
   "source": [
    "import sys\n",
    "print(sys.path)\n",
    "sys.path.append('/fast/lorenz/Programs/Total-Exchange-Flow/TotalExchangeFlow/')\n",
    "from tef_core import *\n",
    "import numpy as np\n",
    "import pylab as plt\n",
    "import xarray as xr"
   ]
  },
  {
   "cell_type": "code",
   "execution_count": 2,
   "metadata": {},
   "outputs": [],
   "source": [
    "#recreate analytical example of Burchard et al. (2019) and Lorenz et al. (2019)\n",
    "#define parameters\n",
    "A=10000. #m^2 cross section\n",
    "T=12*3600#s tidal period\n",
    "omega=2*np.pi/T #Hz tidal frequency\n",
    "u_r=-0.1 #m/s residual velocity (river discharge)\n",
    "u_a = 1. #m/s tidal velocity amplitude\n",
    "s_r = 20. #g/kg residual salinity\n",
    "s_a = 10. #g/kg amplitude of salinity changes within one tidal cycle\n",
    "phi = -np.arccos(-2*(u_r*s_r)/(u_a*s_a)) #phase lag between velocity and salt\n",
    "N = 10000\n",
    "\n",
    "#define analytical velocity and salinity function:\n",
    "def u_vel_analytical(t):\n",
    "    u=u_r+u_a*np.cos(2*np.pi*t)\n",
    "    return(u)\n",
    "    \n",
    "def s_analytical(t):\n",
    "    s = s_r + s_a*np.cos(2*np.pi*t+phi)\n",
    "    return(s)\n",
    "\n",
    "#define analytical solution according to Appendix of Lorenz et al. (2019):\n",
    "\n",
    "def Q_analytical(S):\n",
    "    t_1 = -1/omega*(np.arccos((S-s_r)/s_a)+phi)\n",
    "    t_2 = 1/omega*(np.arccos((S-s_r)/s_a)-phi)\n",
    "    #print(t_1,t_2)\n",
    "    Q = A/T*(u_r*t_2+u_a/omega*np.sin(omega*t_2)-u_r*t_1-u_a/omega*np.sin(omega*t_1))\n",
    "    return(Q)\n",
    "    \n",
    "def Qs_analytical(S):\n",
    "    t_1 = -1/omega*(np.arccos((S-s_r)/s_a)+phi)\n",
    "    t_2 = 1/omega*(np.arccos((S-s_r)/s_a)-phi)\n",
    "    Qs = A/T*(u_r*s_r*(t_2-t_1)+u_a*s_r/omega*(np.sin(omega*t_2)-np.sin(omega*t_1)) + u_r*s_a/omega*(np.sin(omega*t_2 + phi)-np.sin(omega*t_1+phi))\\\n",
    "    +u_a*s_a/2*np.cos(phi)*(t_2-t_1 + 1/omega *np.sin(omega*t_2)*np.cos(omega*t_2) - 1/omega *np.sin(omega*t_1)*np.cos(omega*t_1))\\\n",
    "    -u_a*s_a*np.sin(phi)/2/omega*(np.sin(omega*t_2)**2 - np.sin(omega*t_1)**2))\n",
    "    return(Qs)    \n",
    "    \n",
    "def q_analytical(S):\n",
    "    q=A/(T*omega)*1/(np.sqrt(s_a**2-(S-s_r)**2))*(-2*u_r-u_a*np.cos(np.arccos((S-s_r)/s_a)-phi)-u_a*np.cos(np.arccos((S-s_r)/s_a)+phi))\n",
    "    return(q)\n"
   ]
  },
  {
   "cell_type": "code",
   "execution_count": 3,
   "metadata": {},
   "outputs": [
    {
     "data": {
      "text/plain": [
       "<matplotlib.legend.Legend at 0x2b49f4877f10>"
      ]
     },
     "execution_count": 3,
     "metadata": {},
     "output_type": "execute_result"
    },
    {
     "data": {
      "image/png": "[encoded data removed]",
      "text/plain": [
       "<Figure size 432x288 with 2 Axes>"
      ]
     },
     "metadata": {
      "needs_background": "light"
     },
     "output_type": "display_data"
    }
   ],
   "source": [
    "#create the discrete values for time, volume transport, salt, and salt transport for N discrete value:\n",
    "t = np.float64(np.arange(0,1,1/N)) #time array (0 to 1 , so relative to one Tidal cycle T)\n",
    "volume_transport = np.float64(u_vel_analytical(t)) #volume transport\n",
    "salt = np.float64(s_analytical(t)) #salt / salinity\n",
    "salt_transport=np.float64(volume_transport*salt) #salt transport\n",
    "\n",
    "### put everything into a xr.Dataset\n",
    "\n",
    "data = xr.Dataset({\n",
    "\"salt\": ([\"time\",\"level\"], np.reshape(salt,(N,1))),\n",
    "\"volume_transport\": ([\"time\",\"level\"], np.reshape(volume_transport,(N,1))),\n",
    "\"salt_transport\": ([\"time\",\"level\"], np.reshape(salt_transport,(N,1)))},\n",
    "coords={\n",
    "    \"time\": ([\"time\"], t),\n",
    "    \"level\": ([\"level\"], [1]),\n",
    "})\n",
    "\n",
    "#show the data\n",
    "\n",
    "fig, ax = plt.subplots(2,1,sharex=True)\n",
    "ax[0].plot(t,volume_transport,color='blue',label='volume transport')\n",
    "ax[0].legend(loc='upper left',bbox_to_anchor=(1.05, 1))\n",
    "ax[0].set_ylabel('volume transport / m3s-1')\n",
    "ax[1].plot(t,salt,color='red',label='salt')\n",
    "ax[1].set_ylabel('salt / g/kg')\n",
    "ax[1].set_xlabel('relative time')\n",
    "ax[1].set_xlim(0,1)\n",
    "ax[1].legend(loc='upper left',bbox_to_anchor=(1.05, 1))"
   ]
  },
  {
   "cell_type": "code",
   "execution_count": 4,
   "metadata": {},
   "outputs": [],
   "source": [
    "### to the TEF analysis with the package\n",
    "tef = TEF_object(ds=data)\n",
    "\n",
    "###sort into salinity classes. From the paper and the data we know what s_min and s_max should be:\n",
    "s_min  = 10.0\n",
    "s_max  = 31.0\n",
    "N_bins = 1024\n",
    "out = tef.sort_1dim(tef.ds.salt,\n",
    "                  transport = tef.ds.volume_transport,\n",
    "                  N=N_bins,\n",
    "                  minmaxrange=(s_min,s_max))"
   ]
  },
  {
   "cell_type": "code",
   "execution_count": 12,
   "metadata": {},
   "outputs": [
    {
     "data": {
      "text/plain": [
       "[<matplotlib.lines.Line2D at 0x2b49ff5007d0>]"
      ]
     },
     "execution_count": 12,
     "metadata": {},
     "output_type": "execute_result"
    },
    {
     "data": {
      "image/png": "[encoded data removed]",
      "text/plain": [
       "<Figure size 432x288 with 1 Axes>"
      ]
     },
     "metadata": {
      "needs_background": "light"
     },
     "output_type": "display_data"
    }
   ],
   "source": [
    "out.q.isel(time=4466).plot()"
   ]
  },
  {
   "cell_type": "code",
   "execution_count": null,
   "metadata": {},
   "outputs": [],
   "source": []
  }
 ],
 "metadata": {
  "kernelspec": {
   "display_name": "(1) Python 3",
   "language": "python",
   "name": "iow_python"
  },
  "language_info": {
   "codemirror_mode": {
    "name": "ipython",
    "version": 3
   },
   "file_extension": ".py",
   "mimetype": "text/x-python",
   "name": "python",
   "nbconvert_exporter": "python",
   "pygments_lexer": "ipython3",
   "version": "3.7.7"
  }
 },
 "nbformat": 4,
 "nbformat_minor": 4
}
